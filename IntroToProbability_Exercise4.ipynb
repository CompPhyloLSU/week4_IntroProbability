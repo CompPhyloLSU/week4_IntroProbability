{
 "cells": [
  {
   "cell_type": "markdown",
   "metadata": {},
   "source": [
    "### Exercise 4 (Conditional Probabilities)"
   ]
  },
  {
   "cell_type": "markdown",
   "metadata": {},
   "source": [
    "Even with 1,000 samples, our estimates still have some error, but let's take them as true for the moment. The estimates I obtained were 0.371, 0.179, 0.181, and 0.269. Because our four phenotypes are combinations of two binary traits (large v small, striped v spotted), we can ask whether the states of these characters are independent of one another or not.\n",
    "\n",
    "A basic axiom of probability is that if two characters are independent of one another, their joint probability can be obtained by multiplying their individual probabilities. In our case, we can examine the independence of _large_ and _striped_. To find the overall probability of the event _large_, we need to add the probabilities of \"large_striped\" and \"large_spotted\"."
   ]
  },
  {
   "cell_type": "code",
   "execution_count": null,
   "metadata": {
    "collapsed": true
   },
   "outputs": [],
   "source": [
    "pLarge = (phenoCounts[1] + phenoCounts[3])/numSamples\n",
    "pLarge"
   ]
  },
  {
   "cell_type": "markdown",
   "metadata": {},
   "source": [
    "We can obtain the overall probability of _striped_ by adding the probabilities of \"large_striped\" and \"small_striped\"."
   ]
  },
  {
   "cell_type": "code",
   "execution_count": null,
   "metadata": {
    "collapsed": true
   },
   "outputs": [],
   "source": [
    "pStriped = (phenoCounts[1] + phenoCounts[2])/numSamples\n",
    "pStriped"
   ]
  },
  {
   "cell_type": "markdown",
   "metadata": {},
   "source": [
    "If these states are independent, then the joint probability of the two conditions together should be given by\n",
    "\n",
    "<center>$P(large,striped) = P(large)P(striped)$</center>"
   ]
  },
  {
   "cell_type": "code",
   "execution_count": null,
   "metadata": {
    "collapsed": true
   },
   "outputs": [],
   "source": [
    "pLargeStriped_ind = pLarge * pStriped\n",
    "pLargeStriped_ind"
   ]
  },
  {
   "cell_type": "markdown",
   "metadata": {},
   "source": [
    "How does this value compare to the frequency that was actually observed for that combination? Do you think these traits are independent? Let's do similar calculations for the other traits."
   ]
  },
  {
   "cell_type": "code",
   "execution_count": null,
   "metadata": {
    "collapsed": true
   },
   "outputs": [],
   "source": [
    "pSmall = (phenoCounts[2] + phenoCounts[4])/numSamples\n",
    "pSmall"
   ]
  },
  {
   "cell_type": "code",
   "execution_count": null,
   "metadata": {
    "collapsed": true
   },
   "outputs": [],
   "source": [
    "pSpotted = (phenoCounts[3] + phenoCounts[4])/numSamples\n",
    "pSpotted"
   ]
  },
  {
   "cell_type": "code",
   "execution_count": null,
   "metadata": {
    "collapsed": true
   },
   "outputs": [],
   "source": [
    "pSmallStriped_ind = pSmall * pStriped\n",
    "pSmallStriped_ind\n",
    "\n",
    "pLargeSpotted_ind = pLarge * pSpotted\n",
    "pLargeSpotted_ind\n",
    "\n",
    "pSmallSpotted_ind = pSmall * pSpotted\n",
    "pSmallSpotted_ind"
   ]
  },
  {
   "cell_type": "markdown",
   "metadata": {},
   "source": [
    "Now, comparing all four of these expected phenotype frequencies to those estimated from sampling above, what do you notice? If there are differences, what do they suggest about the (in)dependence of the two traits in this population?\n",
    "\n",
    "We can also calculate the joint probability of two events without assuming that they are independent. To do so, we use conditional probabilities.\n",
    "\n",
    "<center>$P(large,striped)=P(large|striped)P(striped)=P(striped|large)P(large)$</center>\n",
    "\n",
    "To do these calculations, we'll need to calculate a couple of new values. These are the conditional probabilities\n",
    "\n",
    "<center>$P(large|striped)$ and $P(striped|large)$</center>\n",
    "\n",
    "These can be read as \"the probability of being large, given that an individual is striped\" or \"the probability of being striped, given that an individual is large\". To calculate $P(large|striped)$ we can take the frequency of large, striped individuals that we've sampled and divide it by the total frequency of all striped individuals."
   ]
  },
  {
   "cell_type": "code",
   "execution_count": null,
   "metadata": {
    "collapsed": true
   },
   "outputs": [],
   "source": [
    "pLargeGivenStriped = (phenoCounts[1]/numSamples)/pStriped\n",
    "pLargeGivenStriped"
   ]
  },
  {
   "cell_type": "markdown",
   "metadata": {},
   "source": [
    "Now that we know this conditional probability, we can calculate the joint probability. "
   ]
  },
  {
   "cell_type": "code",
   "execution_count": null,
   "metadata": {
    "collapsed": true
   },
   "outputs": [],
   "source": [
    "pLargeStriped_cond = pLargeGivenStriped * pStriped\n",
    "pLargeStriped_cond"
   ]
  },
  {
   "cell_type": "markdown",
   "metadata": {},
   "source": [
    "This value is exactly equal to the observed frequency of large, striped individuals. However, the careful observer will notice that in this case, we've just recapitulated our original calculation of `(phenoCounts[1]/numSamples)`, but in other circumstances we might not already have that value available. We may know only the conditional probability on its own. We'll return to these ideas of conditional probability in a few weeks when we discuss Bayesian inference."
   ]
  }
 ],
 "metadata": {
  "kernelspec": {
   "display_name": "RevBayes",
   "language": "bash",
   "name": "revbayes_kernel"
  },
  "language_info": {
   "codemirror_mode": {
    "name": "r"
   },
   "file_extension": ".Rev",
   "help_links": [
    {
     "text": "RevBayes",
     "url": "https://revbayes.org"
    },
    {
     "text": "RevBayes Kernel",
     "url": "https://github.com/sdwfrost/revbayes_kernel"
    },
    {
     "text": "MetaKernel Magics",
     "url": "https://github.com/calysto/metakernel/blob/master/metakernel/magics/README.md"
    }
   ],
   "mimetype": "text/x-rsrc",
   "name": "RevBayes",
   "pygments_lexer": "R"
  }
 },
 "nbformat": 4,
 "nbformat_minor": 2
}
