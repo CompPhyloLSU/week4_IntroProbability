{
 "cells": [
  {
   "cell_type": "markdown",
   "metadata": {},
   "source": [
    "### Exercise 3 (Important Properties of Probabilities)"
   ]
  },
  {
   "cell_type": "markdown",
   "metadata": {},
   "source": [
    "There are some important properties of probabilities that we can check manually using our biological example from above.\n",
    "\n",
    "(1) $P(A^C)=1-P(A)$\n",
    "\n",
    "In words, the first property says that the probability of an event, $A$, not happening is 1 minus the probability of the event happening. For instance, if the event of interest is sampling a large, striped individual"
   ]
  },
  {
   "cell_type": "code",
   "execution_count": 8,
   "metadata": {},
   "outputs": [
    {
     "name": "stdout",
     "output_type": "stream",
     "text": [
      "   0.552\n"
     ]
    }
   ],
   "source": [
    "phenoFreqs = v(0.371,0.179,0.181,0.269)\n",
    "\n",
    "pLarge = phenoFreqs[1] + phenoFreqs[3]\n",
    "pLarge"
   ]
  },
  {
   "cell_type": "code",
   "execution_count": 2,
   "metadata": {},
   "outputs": [
    {
     "name": "stdout",
     "output_type": "stream",
     "text": [
      "   0.35\n"
     ]
    }
   ],
   "source": [
    "phenoCounts = [5,7,4,4] # Copied from Exercise 2\n",
    "numSamples = 20"
   ]
  },
  {
   "cell_type": "code",
   "execution_count": null,
   "metadata": {},
   "outputs": [],
   "source": [
    "pLargeStriped = phenoCounts[1]/numSamples\n",
    "pLargeStriped"
   ]
  },
  {
   "cell_type": "code",
<<<<<<< HEAD
   "execution_count": 3,
   "metadata": {},
   "outputs": [
    {
     "name": "stdout",
     "output_type": "stream",
     "text": [
      "   0.65\n"
     ]
    }
   ],
=======
   "execution_count": null,
   "metadata": {},
   "outputs": [],
>>>>>>> 4a34cb0860662252aa75ad2d65cac79b1cad394a
   "source": [
    "1-pLargeStriped"
   ]
  },
  {
   "cell_type": "code",
<<<<<<< HEAD
   "execution_count": 4,
   "metadata": {
    "scrolled": true
   },
   "outputs": [
    {
     "name": "stdout",
     "output_type": "stream",
     "text": [
      "   0.65\n"
     ]
    }
   ],
=======
   "execution_count": null,
   "metadata": {},
   "outputs": [],
>>>>>>> 4a34cb0860662252aa75ad2d65cac79b1cad394a
   "source": [
    "(phenoCounts[2] + phenoCounts[3] + phenoCounts[4])/numSamples"
   ]
  },
  {
   "cell_type": "markdown",
   "metadata": {},
   "source": [
    "Line 3 and 4 should be equal. If not, you did something wrong and did not calculate your frequencies properly. \n",
    "\n",
    "(2) If $A \\subseteq B$, then $P(A) \\leq P(B)$\n",
    "\n",
    "For an event ($A$) that is a subset of another ($B$), the probability of $A$ must be less than or equal to $B$."
   ]
  },
  {
   "cell_type": "code",
<<<<<<< HEAD
   "execution_count": 5,
   "metadata": {},
   "outputs": [
    {
     "name": "stdout",
     "output_type": "stream",
     "text": [
      "   0.45\n",
      "   0.35\n"
     ]
    }
   ],
=======
   "execution_count": null,
   "metadata": {},
   "outputs": [],
>>>>>>> 4a34cb0860662252aa75ad2d65cac79b1cad394a
   "source": [
    "pLarge = (phenoCounts[1] + phenoCounts[3])/numSamples\n",
    "pLarge\n",
    "pLargeStriped"
   ]
  },
  {
   "cell_type": "markdown",
   "metadata": {},
   "source": [
    "(3) $P(A \\cup B) = P(A) + P(B) - P(A \\cap B)$\n",
    "\n",
    "The probability of the union of two events, $A$ and $B$, is equal to the sum of the probabilities of these events minus the probability of their intersection. If the events are mutually exclusive, they have no intersection and $P(A \\cap B)=0$.\n",
    "\n",
    "$P(large \\cup striped) = P(large) + P(striped) - P(large \\cap striped)$"
   ]
  },
  {
   "cell_type": "code",
<<<<<<< HEAD
   "execution_count": 6,
   "metadata": {},
   "outputs": [
    {
     "name": "stdout",
     "output_type": "stream",
     "text": [
      "   0.6\n"
     ]
    }
   ],
=======
   "execution_count": null,
   "metadata": {},
   "outputs": [],
>>>>>>> 4a34cb0860662252aa75ad2d65cac79b1cad394a
   "source": [
    "pStriped = (phenoCounts[1] + phenoCounts[2])/numSamples\n",
    "\n",
    "pLargeOrStriped = pLarge + pStriped - pLargeStriped\n",
    "pLargeOrStriped"
   ]
  },
  {
   "cell_type": "code",
<<<<<<< HEAD
   "execution_count": 7,
   "metadata": {},
   "outputs": [
    {
     "name": "stdout",
     "output_type": "stream",
     "text": [
      "   0.4\n"
     ]
    }
   ],
=======
   "execution_count": null,
   "metadata": {},
   "outputs": [],
>>>>>>> 4a34cb0860662252aa75ad2d65cac79b1cad394a
   "source": [
    "pSmallSpotted = phenoCounts[4]/numSamples\n",
    "pSmallSpotted"
   ]
  },
  {
   "cell_type": "code",
   "execution_count": null,
   "metadata": {},
   "outputs": [],
   "source": [
    "pLargeOrStriped + pSmallSpotted"
   ]
  }
 ],
 "metadata": {
  "kernelspec": {
   "display_name": "RevBayes",
   "language": "bash",
   "name": "revbayes_kernel"
  },
  "language_info": {
   "codemirror_mode": {
    "name": "r"
   },
   "file_extension": ".Rev",
   "help_links": [
    {
     "text": "RevBayes",
     "url": "https://revbayes.org"
    },
    {
     "text": "RevBayes Kernel",
     "url": "https://github.com/sdwfrost/revbayes_kernel"
    },
    {
     "text": "MetaKernel Magics",
     "url": "https://github.com/calysto/metakernel/blob/master/metakernel/magics/README.md"
    }
   ],
   "mimetype": "text/x-rsrc",
   "name": "RevBayes",
   "pygments_lexer": "R"
  }
 },
 "nbformat": 4,
 "nbformat_minor": 2
}
