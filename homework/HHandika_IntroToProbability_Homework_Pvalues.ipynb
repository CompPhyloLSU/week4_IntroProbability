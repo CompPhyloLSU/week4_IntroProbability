{
 "cells": [
  {
   "cell_type": "markdown",
   "metadata": {},
   "source": [
    "# Week 4 Homework - P-values"
   ]
  },
  {
   "cell_type": "markdown",
   "metadata": {},
   "source": [
    "You flip a coin 20 times and observe 5 heads. This seems low if the coin is fair, but just how improbable is it? One way to address this is to simulate a large number of 20 coin flips and see how many of these simulations result in 5 or fewer heads."
   ]
  },
  {
   "cell_type": "code",
   "execution_count": 8,
   "metadata": {},
   "outputs": [
    {
     "name": "stdout",
     "output_type": "stream",
     "text": [
      "5,8,10,12,13,11,6,11,6,6,7,12,10,12,7,9,12,6,12,9,8,7,7,8,10,12,10,8,8,9,7,9,12,8,10,12,11,11,9,11,9,12,12,9,12,9,10,10,8,7\n"
     ]
    }
   ],
   "source": [
    "# In this cell, run your binomial simulations. There are at least two different ways to do this. \n",
    "# One involves a for loop. Be sure to store the results (# heads) in a vector. To find the function for binomial\n",
    "# draws, remember the name of the function we've drawn from before - runifInt. To see all possible functions in\n",
    "# RevBayes, you can use ls(all=TRUE).\n",
    "\n",
    "#using rbinomial function\n",
    "numT = 50\n",
    "for (c in 1:numT){\n",
    "    heads [c] = rbinomial(1, 0.5, 20)\n",
    "}\n",
    "print(heads)"
   ]
  },
  {
   "cell_type": "markdown",
   "metadata": {},
   "source": [
    "Now you'll need to compare your observation (5 heads) to your simulations. Using a `for` loop, go through your results and count the number of simulated values that are less than or equal to your observed value. Convert your count into a frequency by dividing by the total number of simulations you ran."
   ]
  },
  {
   "cell_type": "code",
   "execution_count": 9,
   "metadata": {},
   "outputs": [
    {
     "name": "stdout",
     "output_type": "stream",
     "text": [
      "1\n",
      "0.02\n"
     ]
    }
   ],
   "source": [
    "# In this cell, compare your simulated and observed values.\n",
    "\n",
    "# First, initialize a variable to hold your count of simulated values less than the observed\n",
    "lfive = 0\n",
    "# Set up a for loop and tally the number of sims with <= 5 heads.\n",
    "lfive = 0\n",
    "for (c in 1:numT){\n",
    "    if (heads[c][1] <=5){\n",
    "        lfive +=1\n",
    "    }\n",
    "}\n",
    "print(lfive)\n",
    "# Display the frequency of sims with <= 5 heads here\n",
    "freqSims = lfive/numT\n",
    "print(freqSims)"
   ]
  },
  {
   "cell_type": "markdown",
   "metadata": {},
   "source": [
    "How probable was the observed number of heads? Do you believe your coin to be fair?\n",
    "\n",
    "Another way to get this probability is not using simulations. For standard distributions like the binomial, there are built-in probability mass functions with known probabilities for different outcomes. These are similar to the functions used to draw values from a distribution, but in this case they start with a `d`. For the binomial, this function takes 4 arguments:\n",
    "\n",
    "1. number of successes (heads)\n",
    "2. probability of success (0.5 for a fair coin)\n",
    "3. number of trials (coin flips)\n",
    "4. a boolean to see if you want the log of the probability (use FALSE here)\n",
    "\n",
    "To get the total probability of 0, 1, 2, 3, 4, and 5, you'll need to call this function once for each number of successes and add the probabilities together. How does this compare to the value you estimated above using simulations?"
   ]
  },
  {
   "cell_type": "code",
   "execution_count": null,
   "metadata": {},
   "outputs": [],
   "source": [
    "# In this cell, use RevBayes built-in PMF for the binomial to calculate the tail-area probability of <= 5 heads.\n",
    "#number of \n",
    "\n"
   ]
  },
  {
   "cell_type": "code",
   "execution_count": 10,
   "metadata": {},
   "outputs": [
    {
     "name": "stdout",
     "output_type": "stream",
     "text": [
      "   0.01478577\n"
     ]
    }
   ],
   "source": [
    "#for 5 success\n",
    "numTrials = 20\n",
    "numSuccess = 5\n",
    "Prob = 0.5\n",
    "\n",
    "hProb5 = dbinomial(numSuccess,Prob,numTrials,log=false)\n",
    "    return hProb5"
   ]
  },
  {
   "cell_type": "code",
   "execution_count": 11,
   "metadata": {},
   "outputs": [
    {
     "name": "stdout",
     "output_type": "stream",
     "text": [
      "   0.004620552\n"
     ]
    }
   ],
   "source": [
    "#Binomial for 4 success\n",
    "numTrials = 20\n",
    "numSuccess = 4\n",
    "Prob = 0.5\n",
    "\n",
    "hProb4 = dbinomial(numSuccess,Prob,numTrials,log=false)\n",
    "    return hProb4"
   ]
  },
  {
   "cell_type": "code",
   "execution_count": 12,
   "metadata": {},
   "outputs": [
    {
     "name": "stdout",
     "output_type": "stream",
     "text": [
      "   0.001087189\n"
     ]
    }
   ],
   "source": [
    "#Binomial for 3 success\n",
    "numTrials = 20\n",
    "numSuccess = 3\n",
    "Prob = 0.5\n",
    "\n",
    "hProb3 = dbinomial(numSuccess,Prob,numTrials,log=false)\n",
    "    return hProb3"
   ]
  },
  {
   "cell_type": "code",
   "execution_count": 13,
   "metadata": {},
   "outputs": [
    {
     "name": "stdout",
     "output_type": "stream",
     "text": [
      "   0.0001811981\n"
     ]
    }
   ],
   "source": [
    "#Binomial for 2 success\n",
    "numTrials = 20\n",
    "numSuccess = 2\n",
    "Prob = 0.5\n",
    "\n",
    "hProb2 = dbinomial(numSuccess,Prob,numTrials,log=false)\n",
    "    return hProb2"
   ]
  },
  {
   "cell_type": "code",
   "execution_count": 14,
   "metadata": {},
   "outputs": [
    {
     "name": "stdout",
     "output_type": "stream",
     "text": [
      "   1.907349e-05\n"
     ]
    }
   ],
   "source": [
    "#Binomial for 1 success\n",
    "numTrials = 20\n",
    "numSuccess = 1\n",
    "Prob = 0.5\n",
    "\n",
    "hProb1 = dbinomial(numSuccess,Prob,numTrials,log=false)\n",
    "    return hProb1"
   ]
  },
  {
   "cell_type": "code",
   "execution_count": 15,
   "metadata": {},
   "outputs": [
    {
     "name": "stdout",
     "output_type": "stream",
     "text": [
      "   9.536743e-07\n"
     ]
    }
   ],
   "source": [
    "#Binomial for 0 success\n",
    "numTrials = 20\n",
    "numSuccess = 0\n",
    "Prob = 0.5\n",
    "\n",
    "hProb0 = dbinomial(numSuccess,Prob,numTrials,log=false)\n",
    "    return hProb0"
   ]
  },
  {
   "cell_type": "code",
   "execution_count": 16,
   "metadata": {},
   "outputs": [
    {
     "name": "stdout",
     "output_type": "stream",
     "text": [
      "0.02069473\n"
     ]
    }
   ],
   "source": [
    "#For total probabilities\n",
    "total = hProb5 + hProb4 + hProb3 + hProb2 + hProb1 + hProb0 \n",
    "print(total)"
   ]
  },
  {
   "cell_type": "markdown",
   "metadata": {},
   "source": [
    "The probabilities you've just calculated or estimated above are the lower one-tailed p-values associated with observing 5 heads if your null hypothesis is a fair coin. What is the standard threshold for p-values in order to reject the null hypothesis (often called alpha)? Using this value, would you reject the hypothesis of a fair coin?\n",
    "\n",
    "What's a two-tailed p-value? How would you calculate that in this case? Using a two-tailed value, would you still reject the fair coin model?"
   ]
  },
  {
   "cell_type": "markdown",
   "metadata": {},
   "source": [
    "Answer:\n",
    "\n",
    "Some studies use 0.01. Nonetheless, in general, the p-value should be lower than 0.05. The result is 0.02. Thus, the null hypothesis is rejected.\n",
    "\n",
    "The two-tailed p-value is testing p-value for two directions, which practically by allocating half of p-value for one direction and the other half for the other direction. In this case, the total p-value is fall under the top or buttom 25%. Thus, the null hypothesis is still rejected."
   ]
  },
  {
   "cell_type": "code",
   "execution_count": null,
   "metadata": {},
   "outputs": [],
   "source": []
  }
 ],
 "metadata": {
  "kernelspec": {
   "display_name": "RevBayes",
   "language": "bash",
   "name": "revbayes_kernel"
  },
  "language_info": {
   "codemirror_mode": {
    "name": "r"
   },
   "file_extension": ".Rev",
   "help_links": [
    {
     "text": "RevBayes",
     "url": "https://revbayes.org"
    },
    {
     "text": "RevBayes Kernel",
     "url": "https://github.com/sdwfrost/revbayes_kernel"
    },
    {
     "text": "MetaKernel Magics",
     "url": "https://github.com/calysto/metakernel/blob/master/metakernel/magics/README.md"
    }
   ],
   "mimetype": "text/x-rsrc",
   "name": "RevBayes",
   "pygments_lexer": "R"
  }
 },
 "nbformat": 4,
 "nbformat_minor": 2
}
