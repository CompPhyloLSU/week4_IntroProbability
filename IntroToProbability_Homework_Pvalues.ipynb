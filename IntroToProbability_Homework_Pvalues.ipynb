{
 "cells": [
  {
   "cell_type": "markdown",
   "metadata": {},
   "source": [
    "# Week 4 Homework - P-values"
   ]
  },
  {
   "cell_type": "markdown",
   "metadata": {},
   "source": [
    "You flip a coin 20 times and observe 5 heads. This seems low if the coin is fair, but just how improbable is it? One way to address this is to simulate a large number of 20 coin flips and see how many of these simulations result in 5 or fewer heads."
   ]
  },
  {
   "cell_type": "code",
   "execution_count": 23,
   "metadata": {},
   "outputs": [
    {
     "name": "stdout",
     "output_type": "stream",
     "text": [
      "9,12,11,7,9,9,10,7,13,13,5,12,11,11,6,10,10,10,12,10,9,11,9,10,8,10,15,11,9,9,9,12,10,11,9,12,9,11,12,8,9,12,11,14,12,11,9,8,9,6\n"
     ]
    }
   ],
   "source": [
    "# In this cell, run your binomial simulations. There are at least two different ways to do this. \n",
    "# One involves a for loop. Be sure to store the results (# heads) in a vector. To find the function for binomial\n",
    "# draws, remember the name of the function we've drawn from before - runifInt. To see all possible functions in\n",
    "# RevBayes, you can use ls(all=TRUE).\n",
    "clear()\n",
    "flips = 50\n",
    "for (i in 1:flips){\n",
    "    myHeads[i] = 0\n",
    "}\n",
    "for (i in 1:flips){\n",
    "    myHeads[i] = rbinomial(1, .5, 20)\n",
    "}\n",
    "print(myHeads)\n"
   ]
  },
  {
   "cell_type": "markdown",
   "metadata": {},
   "source": [
    "Now you'll need to compare your observation (5 heads) to your simulations. Using a `for` loop, go through your results and count the number of simulated values that are less than or equal to your observed value. Convert your count into a frequency by dividing by the total number of simulations you ran."
   ]
  },
  {
   "cell_type": "code",
   "execution_count": 24,
   "metadata": {},
   "outputs": [
    {
     "name": "stdout",
     "output_type": "stream",
     "text": [
      "1\n",
      "0.02\n"
     ]
    }
   ],
   "source": [
    "# In this cell, compare your simulated and observed values.\n",
    "\n",
    "# First, initialize a variable to hold your count of simulated values less than the observed\n",
    "\n",
    "\n",
    "# Set up a for loop and tally the number of sims with <= 5 heads.\n",
    "fiveHeads = 0\n",
    "otherHeads = 0 \n",
    "\n",
    "for (k in 1: flips) {\n",
    "    if (myHeads[k][1] <= 5) {\n",
    "        fiveHeads +=1 \n",
    "    } else {\n",
    "        otherHeads +=1 \n",
    "    \n",
    "    }\n",
    "}\n",
    "\n",
    "\n",
    "# Display the frequency of sims with <= 5 heads here\n",
    "print(fiveHeads)\n",
    "print(fiveHeads/flips)\n"
   ]
  },
  {
   "cell_type": "markdown",
   "metadata": {},
   "source": [
    "How probable was the observed number of heads? Do you believe your coin to be fair?\n",
    "\n",
    "Another way to get this probability is not using simulations. For standard distributions like the binomial, there are built-in probability mass functions with known probabilities for different outcomes. These are similar to the functions used to draw values from a distribution, but in this case they start with a `d`. For the binomial, this function takes 4 arguments:\n",
    "\n",
    "1. number of successes (heads)\n",
    "2. probability of success (0.5 for a fair coin)\n",
    "3. number of trials (coin flips)\n",
    "4. a boolean to see if you want the log of the probability (use FALSE here)\n",
    "\n",
    "To get the total probability of 0, 1, 2, 3, 4, and 5, you'll need to call this function once for each number of successes and add the probabilities together. How does this compare to the value you estimated above using simulations?"
   ]
  },
  {
   "cell_type": "code",
   "execution_count": 25,
   "metadata": {},
   "outputs": [
    {
     "name": "stdout",
     "output_type": "stream",
     "text": [
      "0.02069473\n"
     ]
    }
   ],
   "source": [
    "# In this cell, use RevBayes built-in PMF for the binomial to calculate the tail-area probability of <= 5 heads.\n",
    "\n",
    "\n",
    "pro1 = dbinomial(0, .5, 20, FALSE)\n",
    "pro2 = dbinomial(1, .5, 20, FALSE)\n",
    "pro3 = dbinomial(2, .5, 20, FALSE)\n",
    "pro4 = dbinomial(3, .5, 20, FALSE)\n",
    "pro5 = dbinomial(4, .5, 20, FALSE)\n",
    "pro6 = dbinomial(5, .5, 20, FALSE)\n",
    "\n",
    "protot= (pro1 + pro2 + pro3 + pro4 + pro5 + pro6)\n",
    "print(protot)"
   ]
  },
  {
   "cell_type": "code",
   "execution_count": null,
   "metadata": {},
   "outputs": [],
   "source": [
    "#Hello, I started the hw later than i should've and it turned out to be more complex for me than i anticipated but it wont happen again and i'll be sure to get help next assignment \n",
    "#Hello, got help from Scott this morning and he walked me through the problems I had and it finally all made sense. Hopefully that's okay. "
   ]
  },
  {
   "cell_type": "markdown",
   "metadata": {},
   "source": [
    "The probabilities you've just calculated or estimated above are the lower one-tailed p-values associated with observing 5 heads if your null hypothesis is a fair coin. What is the standard threshold for p-values in order to reject the null hypothesis (often called alpha)? Using this value, would you reject the hypothesis of a fair coin? THe standard threshold is 0.05. Because the value is less than 0.05, I reject the hypothesis of a fair coin. \n",
    "\n",
    "What's a two-tailed p-value? How would you calculate that in this case? Using a two-tailed value, would you still reject the fair coin model? the two-tailed p-value tells whether or not the coin flips are biased towards tails or heads. If you have a curve, the p-values are the two extreme ends of that curve. To calculate the two-tail value, I would do what I did above and find the frequency of sims with 5 tails and then compare the two.   "
   ]
  }
 ],
 "metadata": {
  "kernelspec": {
   "display_name": "RevBayes",
   "language": "bash",
   "name": "revbayes_kernel"
  },
  "language_info": {
   "codemirror_mode": {
    "name": "r"
   },
   "file_extension": ".Rev",
   "help_links": [
    {
     "text": "RevBayes",
     "url": "https://revbayes.org"
    },
    {
     "text": "RevBayes Kernel",
     "url": "https://github.com/sdwfrost/revbayes_kernel"
    },
    {
     "text": "MetaKernel Magics",
     "url": "https://github.com/calysto/metakernel/blob/master/metakernel/magics/README.md"
    }
   ],
   "mimetype": "text/x-rsrc",
   "name": "RevBayes",
   "pygments_lexer": "R"
  }
 },
 "nbformat": 4,
 "nbformat_minor": 2
}
